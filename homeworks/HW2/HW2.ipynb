{
 "cells": [
  {
   "cell_type": "markdown",
   "metadata": {
    "id": "w35Q6hOIy4sk",
    "pycharm": {
     "name": "#%% md\n"
    }
   },
   "source": [
    "# Глубинное обучение, ИИ ВШЭ\n",
    "\n",
    "## Домашнее задание 2. Классификация при помощи CNN. \n",
    "\n",
    "### Общая информация\n",
    "\n",
    "### Оценивание и штрафы\n",
    "\n",
    "Максимально допустимая оценка за работу без бонусов — 10 баллов. Сдавать задание после указанного срока жесткого дедлайна нельзя.\n",
    "\n",
    "Сдача работы после мягкого дедлайна штрафуется ступенчато, -1 балл в сутки. Один раз за модуль студентам предоставляется возможность использовать отсрочку и сдать в жесткий дедлайн без штрафа.\n",
    "\n",
    "Задание выполняется самостоятельно. «Похожие» решения считаются плагиатом и все задействованные студенты (в том числе те, у кого списали) не могут получить за него больше 0 баллов. Если вы нашли решение какого-то из заданий (или его часть) в открытом источнике, необходимо указать ссылку на этот источник в отдельном блоке в конце вашей работы (скорее всего вы будете не единственным, кто это нашел, поэтому чтобы исключить подозрение в плагиате, необходима ссылка на источник).\n",
    "\n",
    "Неэффективная реализация кода может негативно отразиться на оценке. Также оценка может быть снижена за плохо читаемый код и плохо оформленные графики. Все ответы должны сопровождаться кодом или комментариями о том, как они были получены.\n",
    "\n",
    "Использование генеративных моделей допустимо на следующих условиях:\n",
    "- Количество кода, написанное генеративными моделями, не превышает 30%\n",
    "- Указана модель, использованная для генерации, а также промпт\n",
    "- В конце работы необходимо описать свой опыт использования генеративного ИИ для решения данного домашнего задания. Укажите как часто Вам приходилось исправлять код своими руками или просить модель что-то исправить. Было ли это быстрее, чем написать код самим? \n",
    "\n",
    "В случае невыполнения этих требований работа не оценивается и оценка за неё не превышает 0 баллов.\n",
    "\n",
    "### О задании\n",
    "\n",
    "В этом задании вам предстоит познакомиться со сверточными сетями и их обучением для классификации изображений с использованием библиотеки PyTorch.\n"
   ]
  },
  {
   "cell_type": "code",
   "execution_count": 76,
   "metadata": {
    "id": "SaACifdX2QOo",
    "pycharm": {
     "name": "#%%\n"
    }
   },
   "outputs": [],
   "source": [
    "import matplotlib.pyplot as plt\n",
    "import numpy as np\n",
    "import torch\n",
    "import torch.nn as nn\n",
    "import torch.nn.functional as F\n",
    "import torch.optim as optim\n",
    "import torchvision\n",
    "import torchvision.transforms as transforms\n",
    "from sklearn.model_selection import train_test_split"
   ]
  },
  {
   "cell_type": "markdown",
   "metadata": {
    "id": "TIXaUYM-0JFl",
    "pycharm": {
     "name": "#%% md\n"
    }
   },
   "source": [
    "## 0. Загрузка данных\n",
    "\n",
    "Работать мы будем с набором данных [CIFAR10](https://www.cs.toronto.edu/~kriz/cifar.html). CIFAR10 представляет собой набор изображений 32х32 пикселя, разделенных на 10 классов.\n",
    "\n",
    "![title](https://pytorch.org/tutorials/_images/cifar10.png)\n",
    "\n",
    "\n"
   ]
  },
  {
   "cell_type": "markdown",
   "metadata": {
    "id": "g-0EEjl_10vB",
    "pycharm": {
     "name": "#%% md\n"
    }
   },
   "source": [
    "Набор данных уже определен в <code>torchvision.datasets</code>, так что возьмем его оттуда. \n",
    "\n"
   ]
  },
  {
   "cell_type": "code",
   "execution_count": 77,
   "metadata": {
    "id": "Cbwe92dT3aPZ",
    "pycharm": {
     "name": "#%%\n"
    }
   },
   "outputs": [],
   "source": [
    "# Для тру нормализации\n",
    "# mean = [0.4914, 0.4822, 0.4465]\n",
    "# std = [0.2470, 0.2435, 0.2616]\n",
    "# Тут взяты значения как в одном из туториалов пайторча :)\n",
    "\n",
    "\n",
    "def get_cifar10_data(batch_size, transform_train):\n",
    "    torch.manual_seed(0)\n",
    "    np.random.seed(0)\n",
    "\n",
    "    transform_test = transforms.Compose(\n",
    "        [\n",
    "            transforms.ToTensor(),\n",
    "            # Переводим цвета пикселей в отрезок [-1, 1]\n",
    "            transforms.Normalize((0.5, 0.5, 0.5), (0.5, 0.5, 0.5)),\n",
    "        ]\n",
    "    )\n",
    "\n",
    "    # Загружаем данные\n",
    "    trainvalset = torchvision.datasets.CIFAR10(\n",
    "        root=\"./data\", train=True, download=True, transform=transform_train\n",
    "    )\n",
    "    testset = torchvision.datasets.CIFAR10(\n",
    "        root=\"./data\", train=False, download=True, transform=transform_test\n",
    "    )\n",
    "\n",
    "    # В датасете определено разбиение только на train и test,\n",
    "    # так что валидацию дополнительно выделяем из обучающей выборки\n",
    "    train_idx, valid_idx = train_test_split(\n",
    "        np.arange(len(trainvalset)), test_size=0.3, shuffle=True, random_state=0\n",
    "    )\n",
    "    trainset = torch.utils.data.Subset(trainvalset, train_idx)\n",
    "    valset = torch.utils.data.Subset(trainvalset, valid_idx)\n",
    "\n",
    "    train_loader = torch.utils.data.DataLoader(\n",
    "        trainset, batch_size=batch_size, shuffle=True, num_workers=2\n",
    "    )\n",
    "    val_loader = torch.utils.data.DataLoader(\n",
    "        valset, batch_size=batch_size, shuffle=False, num_workers=2\n",
    "    )\n",
    "    test_loader = torch.utils.data.DataLoader(\n",
    "        testset, batch_size=batch_size, shuffle=False, num_workers=2\n",
    "    )\n",
    "\n",
    "    return train_loader, val_loader, test_loader"
   ]
  },
  {
   "cell_type": "code",
   "execution_count": 79,
   "metadata": {
    "colab": {
     "base_uri": "https://localhost:8080/",
     "height": 101,
     "referenced_widgets": [
      "aa9da821ba0c42b5b051355e50e691f0",
      "95c5696493db48738dbdc9940acec1d8",
      "fe515a1f743f49d0b251b43919d52a8e",
      "f4f339c969fd4e21bc683ecb2567897b",
      "17b2be81159e41f1a5c6bb966516572e",
      "22bb21a6c57a413fb7374efe31349e6e",
      "18b20091dbf64b129824a8fb3266e3c0",
      "9bad0d6a00c14229b0d776a2cfe15090",
      "0fee9f5b7bdb4129a71ef0cfe9d3b1fa",
      "cd991379661b4b4ab405bf66f75c6834",
      "7d238166caf64537ad9aa2040dcdc1ec"
     ]
    },
    "id": "2G2rLnN5y6Jj",
    "outputId": "542c91e6-44f6-4e26-f1e8-5df3b83fd044",
    "pycharm": {
     "name": "#%%\n"
    }
   },
   "outputs": [],
   "source": [
    "import torchvision.datasets as datasets\n",
    "\n",
    "transform = transforms.Compose(\n",
    "    [transforms.ToTensor(), transforms.Normalize((0.5, 0.5, 0.5), (0.5, 0.5, 0.5))]\n",
    ")\n",
    "\n",
    "train_loader, val_loader, test_loader = get_cifar10_data(\n",
    "    batch_size=64, transform_train=transform\n",
    ")\n",
    "\n",
    "# train_dataset = datasets.CIFAR10(root=cifar10_path, train=True, download=False, transform=transform)\n",
    "# test_dataset = datasets.CIFAR10(root=cifar10_path, train=False, download=False, transform=transform)\n",
    "\n",
    "# train_loader = torch.utils.data.DataLoader(train_dataset, batch_size=64, shuffle=True)\n",
    "# test_loader = torch.utils.data.DataLoader(test_dataset, batch_size=64, shuffle=False)"
   ]
  },
  {
   "cell_type": "markdown",
   "metadata": {
    "id": "-82HWgXs77W1",
    "pycharm": {
     "name": "#%% md\n"
    }
   },
   "source": [
    "Посмотрим на изображения:"
   ]
  },
  {
   "cell_type": "code",
   "execution_count": 80,
   "metadata": {
    "colab": {
     "base_uri": "https://localhost:8080/",
     "height": 155
    },
    "id": "ACnwaC5iy6L2",
    "outputId": "fd2fc631-ea7b-45f2-9728-eb1c5f9e683c",
    "pycharm": {
     "name": "#%%\n"
    }
   },
   "outputs": [
    {
     "data": {
      "image/png": "[encoded data removed]",
      "text/plain": [
       "<Figure size 640x480 with 1 Axes>"
      ]
     },
     "metadata": {},
     "output_type": "display_data"
    },
    {
     "name": "stdout",
     "output_type": "stream",
     "text": [
      "ship frog horse horse\n"
     ]
    }
   ],
   "source": [
    "def imshow(img):\n",
    "    img = img / 2 + 0.5\n",
    "    npimg = img.numpy()\n",
    "    plt.imshow(np.transpose(npimg, (1, 2, 0)))\n",
    "    plt.show()\n",
    "\n",
    "\n",
    "dataiter = iter(train_loader)\n",
    "images, labels = next(dataiter)\n",
    "\n",
    "imshow(torchvision.utils.make_grid(images[:4]))\n",
    "\n",
    "classes = (\n",
    "    \"plane\",\n",
    "    \"car\",\n",
    "    \"bird\",\n",
    "    \"cat\",\n",
    "    \"deer\",\n",
    "    \"dog\",\n",
    "    \"frog\",\n",
    "    \"horse\",\n",
    "    \"ship\",\n",
    "    \"truck\",\n",
    ")\n",
    "print(*[classes[labels[i]] for i in range(4)])"
   ]
  },
  {
   "cell_type": "markdown",
   "metadata": {
    "id": "KFDilng29YZ_",
    "pycharm": {
     "name": "#%% md\n"
    }
   },
   "source": [
    "## 1. Задание сверточной сети (3 балла)"
   ]
  },
  {
   "cell_type": "markdown",
   "metadata": {
    "id": "OX7Ul8YbYdQR",
    "pycharm": {
     "name": "#%% md\n"
    }
   },
   "source": [
    "Теперь нам нужно задать сверточную нейронную сеть, которую мы будем обучать классифицировать изображения.\n",
    "\n",
    "Используем сеть, основанную на одном блоке архитектуры, похожей на ResNet. Обратите внимание, это не ResNet 1 в 1.\n",
    "\n",
    "<img src=\"https://i.ibb.co/2hg962h/basic-block.png\" width=\"500\"/>\n",
    "\n",
    "__Указания:__\n",
    "\n",
    "- Все сверточные слои должны иметь 32 выходных канала, а также не должны изменять ширину и высоту изображения.\n",
    "- Выход блока сократите до размерности 32х4х4, применив average pooling.\n",
    "- Для получения итоговых логитов, распрямите выход пулинга в вектор из 512 элементов, а затем пропустите его через линейный слой."
   ]
  },
  {
   "cell_type": "markdown",
   "metadata": {
    "id": "sbyIylT9O9Dr",
    "pycharm": {
     "name": "#%% md\n"
    }
   },
   "source": [
    "**Задание 1.1 (3 балла).**\n",
    "\n",
    "Определите архитектуру сети соответственно схеме и указаниям выше.\n",
    "\n",
    "Ключевые слова: <code>Conv2d</code>, <code>BatchNorm2d</code>, <code>AvgPool2d</code>."
   ]
  },
  {
   "cell_type": "code",
   "execution_count": null,
   "metadata": {
    "id": "s9ml1QGKy6N9",
    "pycharm": {
     "name": "#%%\n"
    }
   },
   "outputs": [],
   "source": [
    "n_classes = 10\n",
    "import torch\n",
    "import torch.nn as nn\n",
    "import torch.nn.functional as F\n",
    "\n",
    "class BasicBlockNet(nn.Module):\n",
    "    def __init__(self):\n",
    "        super(BasicBlockNet, self).__init__()\n",
    "        \n",
    "        self.conv1 = nn.Conv2d(3, 32, kernel_size=3, stride=1, padding=1, bias=False)\n",
    "        self.bn1 = nn.BatchNorm2d(32)\n",
    "        self.relu = nn.ReLU(inplace=True)\n",
    "        self.conv2 = nn.Conv2d(32, 32, kernel_size=3, stride=1, padding=1, bias=False)\n",
    "        self.bn2 = nn.BatchNorm2d(32)\n",
    "        \n",
    "        self.shortcut = self.shortcut = nn.Sequential(\n",
    "                nn.Conv2d(3, 32, kernel_size=1, stride=1, bias=False),\n",
    "            )\n",
    "\n",
    "        self.avgpool = nn.AdaptiveAvgPool2d((4, 4))\n",
    "        self.fc = nn.Linear(32 * 4 * 4, n_classes)\n",
    "\n",
    "    def forward(self, x):\n",
    "        x_original = x\n",
    "        \n",
    "        out = self.conv1(x)\n",
    "        out = self.bn1(out)\n",
    "        out = self.relu(out)\n",
    "        out = self.conv2(out)\n",
    "        out = self.bn2(out)\n",
    "        \n",
    "        out += self.shortcut(x_original)\n",
    "        out = self.relu(out)\n",
    "        \n",
    "        out = self.avgpool(out)\n",
    "        out = out.view(out.size(0), -1)\n",
    "        out = self.fc(out)\n",
    "        return out"
   ]
  },
  {
   "cell_type": "code",
   "execution_count": 82,
   "metadata": {
    "id": "FI4BQg7Ky6Pw",
    "pycharm": {
     "name": "#%%\n"
    }
   },
   "outputs": [
    {
     "data": {
      "text/plain": [
       "BasicBlockNet(\n",
       "  (conv1): Conv2d(3, 32, kernel_size=(3, 3), stride=(1, 1), padding=(1, 1), bias=False)\n",
       "  (bn1): BatchNorm2d(32, eps=1e-05, momentum=0.1, affine=True, track_running_stats=True)\n",
       "  (relu): ReLU(inplace=True)\n",
       "  (conv2): Conv2d(32, 32, kernel_size=(3, 3), stride=(1, 1), padding=(1, 1), bias=False)\n",
       "  (bn2): BatchNorm2d(32, eps=1e-05, momentum=0.1, affine=True, track_running_stats=True)\n",
       "  (shortcut): Sequential(\n",
       "    (0): Conv2d(3, 32, kernel_size=(1, 1), stride=(1, 1), bias=False)\n",
       "  )\n",
       "  (avgpool): AdaptiveAvgPool2d(output_size=(4, 4))\n",
       "  (fc): Linear(in_features=512, out_features=10, bias=True)\n",
       ")"
      ]
     },
     "execution_count": 82,
     "metadata": {},
     "output_type": "execute_result"
    }
   ],
   "source": [
    "net = BasicBlockNet()\n",
    "net"
   ]
  },
  {
   "cell_type": "markdown",
   "metadata": {
    "id": "igPoGZEub8d3",
    "pycharm": {
     "name": "#%% md\n"
    }
   },
   "source": [
    "Проверим, что выход сети имеет корректную размерность:"
   ]
  },
  {
   "cell_type": "code",
   "execution_count": 83,
   "metadata": {
    "id": "cCIzFUpJ_Agw",
    "pycharm": {
     "name": "#%%\n"
    }
   },
   "outputs": [],
   "source": [
    "assert net(torch.zeros((10, 3, 32, 32))).shape == (10, 10)"
   ]
  },
  {
   "cell_type": "markdown",
   "metadata": {
    "id": "08osX622cDGz",
    "pycharm": {
     "name": "#%% md\n"
    }
   },
   "source": [
    "Чтобы проводить вычисления на GPU, в PyTorch необходимо руками перекладывать объекты, с которыми вы хотите проводить вычисления, на графический ускоритель. Это делается следующим образрм:"
   ]
  },
  {
   "cell_type": "code",
   "execution_count": 84,
   "metadata": {
    "id": "56hDOMCFcDZX",
    "pycharm": {
     "name": "#%%\n"
    }
   },
   "outputs": [
    {
     "name": "stdout",
     "output_type": "stream",
     "text": [
      "cpu\n"
     ]
    }
   ],
   "source": [
    "device = torch.device(\"cuda:0\" if torch.cuda.is_available() else \"cpu\")\n",
    "print(device)"
   ]
  },
  {
   "cell_type": "code",
   "execution_count": 85,
   "metadata": {
    "id": "ohnDWbp0qbtC",
    "pycharm": {
     "name": "#%%\n"
    }
   },
   "outputs": [],
   "source": [
    "net = net.to(device)"
   ]
  },
  {
   "cell_type": "markdown",
   "metadata": {
    "id": "H_bOlTVUp5QF",
    "pycharm": {
     "name": "#%% md\n"
    }
   },
   "source": [
    "Подключение GPU в google.colab:\n",
    "\n",
    "**Среда выполнения** -> **Сменить среду выполнения** -> **Аппаратный ускоритель** -> **GPU**"
   ]
  },
  {
   "cell_type": "markdown",
   "metadata": {
    "id": "AGi6XX_7_Bgg",
    "pycharm": {
     "name": "#%% md\n"
    }
   },
   "source": [
    "## 2. Обучение и тестирование модели (3 балла)"
   ]
  },
  {
   "cell_type": "markdown",
   "metadata": {
    "id": "0agj_MQoO9Ds",
    "pycharm": {
     "name": "#%% md\n"
    }
   },
   "source": [
    "**Задание 2.1 (2 балла).** Переходим к обучению модели. Заполните пропуски в функциях <code>test</code> и <code>train_epoch</code>. В качестве функции потерь будем использовать [кросс-энтропию](https://pytorch.org/docs/stable/generated/torch.nn.functional.cross_entropy.html), а в качестве метрики качества accuracy."
   ]
  },
  {
   "cell_type": "code",
   "execution_count": 86,
   "metadata": {
    "id": "g8gsPPRIevDS",
    "pycharm": {
     "name": "#%%\n"
    }
   },
   "outputs": [],
   "source": [
    "criterion = nn.CrossEntropyLoss()\n",
    "\n",
    "def test(model, loader):\n",
    "    loss_log = []\n",
    "    acc_log = []\n",
    "    model.eval()\n",
    "\n",
    "    for i, (data, target) in enumerate(loader):\n",
    "        images = data.to(device)\n",
    "        labels = target.to(device)\n",
    "\n",
    "        outputs = model(images)\n",
    "        loss = criterion(outputs, labels)\n",
    "        loss_log.append(loss.item())\n",
    "        _, predicted = torch.max(outputs.data, 1)\n",
    "\n",
    "        total = labels.size(0)\n",
    "        correct = (predicted == labels).sum().item()\n",
    "        accuracy = 100 * correct / total\n",
    "        acc_log.append(accuracy)\n",
    "\n",
    "    return np.mean(loss_log), np.mean(acc_log)\n",
    "\n",
    "\n",
    "def train_epoch(model, optimizer, train_loader):\n",
    "    loss_log = []\n",
    "    acc_log = []\n",
    "    model.train()\n",
    "\n",
    "    for i, (data, target) in enumerate(train_loader):\n",
    "        images = data.to(device)\n",
    "        labels = target.to(device)\n",
    "\n",
    "        outputs = model(images)\n",
    "        loss = criterion(outputs, labels)\n",
    "        loss_log.append(loss.item())\n",
    "\n",
    "        optimizer.zero_grad()\n",
    "        loss.backward()\n",
    "        optimizer.step()\n",
    "\n",
    "        total = labels.size(0)\n",
    "        _, predicted = torch.max(outputs.data, 1)\n",
    "        correct = (predicted == labels).sum().item()\n",
    "        accuracy = 100 * correct / total\n",
    "        acc_log.append(accuracy)\n",
    "\n",
    "    return loss_log, acc_log\n",
    "\n",
    "\n",
    "def train(model, optimizer, n_epochs, train_loader, val_loader, scheduler=None):\n",
    "    train_loss_log, train_acc_log, val_loss_log, val_acc_log = [], [], [], []\n",
    "\n",
    "    for epoch in range(n_epochs):\n",
    "        train_loss, train_acc = train_epoch(model, optimizer, train_loader)\n",
    "        val_loss, val_acc = test(model, val_loader)\n",
    "\n",
    "        train_loss_log.extend(train_loss)\n",
    "        train_acc_log.extend(train_acc)\n",
    "\n",
    "        val_loss_log.append(val_loss)\n",
    "        val_acc_log.append(val_acc)\n",
    "\n",
    "        print(f\"Epoch {epoch}\")\n",
    "        print(f\" train loss: {np.mean(train_loss)}, train acc: {np.mean(train_acc)}\")\n",
    "        print(f\" val loss: {val_loss}, val acc: {val_acc}\\n\")\n",
    "\n",
    "        if scheduler is not None:\n",
    "            scheduler.step()\n",
    "\n",
    "    return train_loss_log, train_acc_log, val_loss_log, val_acc_log"
   ]
  },
  {
   "cell_type": "markdown",
   "metadata": {
    "id": "iSOqk_CAO9Dt",
    "pycharm": {
     "name": "#%% md\n"
    }
   },
   "source": [
    "Запустим обучение модели. В качестве оптимизатора будем использовать стохастический градиентный спуск, который является де-факто стандартом в задачах компьютерного зрения (наравне с <code>Adam</code>).\n",
    "\n",
    "__Замечание:__ Для достижения наилучшего качества в нашем случае потребуется обучать модель несколько сотен эпох. Однако в целях экономии вашего времени и сил, во всех экспериментах мы ограничимся 20 эпохами."
   ]
  },
  {
   "cell_type": "code",
   "execution_count": 87,
   "metadata": {
    "id": "MKZBGhuAgMDu",
    "pycharm": {
     "name": "#%%\n"
    },
    "scrolled": true
   },
   "outputs": [
    {
     "name": "stdout",
     "output_type": "stream",
     "text": [
      "Epoch 0\n",
      " train loss: 1.4664042344694816, train acc: 47.79397362235571\n",
      " val loss: 1.2290639857028394, val acc: 56.861702127659576\n",
      "\n",
      "Epoch 1\n",
      " train loss: 1.1498179613345283, train acc: 59.768379472447116\n",
      " val loss: 1.0557938649299297, val acc: 63.721187943262414\n",
      "\n",
      "Epoch 2\n",
      " train loss: 1.0298872869019098, train acc: 63.89641551318883\n",
      " val loss: 1.0716811388096912, val acc: 62.1875\n",
      "\n",
      "Epoch 3\n",
      " train loss: 0.9814608920862732, train acc: 65.74170801775921\n",
      " val loss: 0.9805775946759163, val acc: 66.27659574468085\n",
      "\n",
      "Epoch 4\n",
      " train loss: 0.9404243821417828, train acc: 67.3882704361452\n",
      " val loss: 0.9722303111502465, val acc: 65.59397163120566\n",
      "\n",
      "Epoch 5\n",
      " train loss: 0.9103754421038863, train acc: 68.41456646644032\n",
      " val loss: 0.9903613356833763, val acc: 65.85328014184397\n",
      "\n",
      "Epoch 6\n",
      " train loss: 0.8889318604355975, train acc: 69.09196265343432\n",
      " val loss: 0.944731243113254, val acc: 67.677304964539\n",
      "\n",
      "Epoch 7\n",
      " train loss: 0.8668019616298746, train acc: 69.87586510838338\n",
      " val loss: 0.9027401432077935, val acc: 69.14893617021276\n",
      "\n",
      "Epoch 8\n",
      " train loss: 0.8455043457434862, train acc: 70.84788782972056\n",
      " val loss: 0.9325268159521387, val acc: 68.34441489361703\n",
      "\n",
      "Epoch 9\n",
      " train loss: 0.8289753247658557, train acc: 70.96337163750327\n",
      " val loss: 0.9465143272217283, val acc: 67.73492907801419\n",
      "\n",
      "Epoch 10\n",
      " train loss: 0.8200840507063613, train acc: 71.40857599895534\n",
      " val loss: 0.8835774211173362, val acc: 69.19326241134752\n",
      "\n",
      "Epoch 11\n",
      " train loss: 0.8069715285214035, train acc: 71.94641224862889\n",
      " val loss: 0.9285027800722325, val acc: 68.43306737588652\n",
      "\n",
      "Epoch 12\n",
      " train loss: 0.7998840678108675, train acc: 72.32918190127971\n",
      " val loss: 0.9012477643946384, val acc: 69.71631205673759\n",
      "\n",
      "Epoch 13\n",
      " train loss: 0.7838147994151281, train acc: 72.62666492556802\n",
      " val loss: 0.8738930279904223, val acc: 70.32358156028367\n",
      "\n",
      "Epoch 14\n",
      " train loss: 0.7796603041876387, train acc: 72.80580765212851\n",
      " val loss: 0.8798096902827, val acc: 70.33244680851064\n",
      "\n",
      "Epoch 15\n",
      " train loss: 0.7631208406832798, train acc: 73.5121768085662\n",
      " val loss: 0.8573202911843645, val acc: 70.79565602836878\n",
      "\n",
      "Epoch 16\n",
      " train loss: 0.7577409019635843, train acc: 73.64031078610603\n",
      " val loss: 0.8932421122459655, val acc: 69.60106382978724\n",
      "\n",
      "Epoch 17\n",
      " train loss: 0.7515850321030486, train acc: 73.93656960041787\n",
      " val loss: 0.8675737592768162, val acc: 70.84219858156027\n",
      "\n",
      "Epoch 18\n",
      " train loss: 0.746102629239642, train acc: 73.89168190127971\n",
      " val loss: 0.8682871874342574, val acc: 70.79343971631207\n",
      "\n",
      "Epoch 19\n",
      " train loss: 0.7349379761127492, train acc: 74.23527683468268\n",
      " val loss: 0.8849193855803064, val acc: 70.41666666666666\n",
      "\n"
     ]
    }
   ],
   "source": [
    "optimizer = optim.SGD(net.parameters(), lr=0.1, momentum=0.9)\n",
    "train_loss_log, train_acc_log, val_loss_log, val_acc_log = train(\n",
    "    net, optimizer, 20, train_loader, val_loader\n",
    ")"
   ]
  },
  {
   "cell_type": "markdown",
   "metadata": {
    "id": "gUb1jQW8O9Dt",
    "pycharm": {
     "name": "#%% md\n"
    }
   },
   "source": [
    "Посчитайте точность на тестовой выборке:"
   ]
  },
  {
   "cell_type": "code",
   "execution_count": 89,
   "metadata": {},
   "outputs": [
    {
     "data": {
      "text/plain": [
       "np.float64(70.1532643312102)"
      ]
     },
     "execution_count": 89,
     "metadata": {},
     "output_type": "execute_result"
    }
   ],
   "source": [
    "_, acc = test(net, test_loader)\n",
    "acc"
   ]
  },
  {
   "cell_type": "markdown",
   "metadata": {
    "id": "zM38Q9fwO9Dt",
    "pycharm": {
     "name": "#%% md\n"
    }
   },
   "source": [
    "Если вы все сделали правильно, у вас должна была получиться точность $\\ge 67\\%$."
   ]
  },
  {
   "cell_type": "markdown",
   "metadata": {
    "id": "DHFNSKcoO9Dt",
    "pycharm": {
     "name": "#%% md\n"
    }
   },
   "source": [
    "**Задание 2.2 (1 балл).** Постройте графики зависимости функции потерь и точности классификации от номера шага оптимизатора. На каждом графике расположите данные и для обучающей и для валидационной выборки, итого у вас должно получиться два графика. Обратите внимание, что на обучающей выборке эти данные считаются по каждому батчу, на валидационной же они считаются по всей выборке раз в эпоху."
   ]
  },
  {
   "cell_type": "code",
   "execution_count": 90,
   "metadata": {},
   "outputs": [],
   "source": [
    "n_epochs = 20"
   ]
  },
  {
   "cell_type": "code",
   "execution_count": 91,
   "metadata": {},
   "outputs": [
    {
     "data": {
      "image/png": "[encoded data removed]",
      "text/plain": [
       "<Figure size 1200x500 with 2 Axes>"
      ]
     },
     "metadata": {},
     "output_type": "display_data"
    }
   ],
   "source": [
    "steps = np.arange(n_epochs)\n",
    "\n",
    "train_epochs_batch_size = len(train_loss_log) // n_epochs\n",
    "train_losses_by_epoch = np.array(train_loss_log).reshape(n_epochs, train_epochs_batch_size)\n",
    "train_mean_loss_by_epoch = np.mean(train_losses_by_epoch, axis=1)\n",
    "\n",
    "plt.figure(figsize=(12, 5))\n",
    "plt.subplot(1, 2, 1)\n",
    "plt.plot(steps, train_mean_loss_by_epoch, 'x-', label='train Loss', alpha=0.7, linewidth=1)\n",
    "plt.plot(steps, val_loss_log, 'o-', label='validation Loss', color='orange')\n",
    "plt.xticks(steps, labels=steps) \n",
    "plt.xlabel('epoch')\n",
    "plt.ylabel('Loss')\n",
    "plt.title('заисимость Loss от эпохи')\n",
    "plt.legend()\n",
    "plt.grid(True)\n",
    "\n",
    "train_accs_by_epoch = np.array(train_acc_log).reshape(n_epochs, train_epochs_batch_size)\n",
    "train_mean_accs_by_epoch = np.mean(train_accs_by_epoch, axis=1)\n",
    "\n",
    "plt.subplot(1, 2, 2)\n",
    "plt.plot(steps, train_mean_accs_by_epoch, 'x-', label='Train Accuracy', alpha=0.7, linewidth=1)\n",
    "plt.plot(steps, val_acc_log, 'o-', label='Validation Accuracy', color='orange')\n",
    "plt.xlabel('epoch')\n",
    "plt.xticks(steps, labels=steps) \n",
    "plt.ylabel('Accuracy %')\n",
    "plt.title('зависимость accuracy от эпохи')\n",
    "plt.legend()\n",
    "plt.grid(True)\n",
    "plt.tight_layout()\n",
    "plt.show()"
   ]
  },
  {
   "cell_type": "markdown",
   "metadata": {
    "id": "_ttOJPj-O9Dt",
    "pycharm": {
     "name": "#%% md\n"
    }
   },
   "source": [
    "## 3. Расписание длины шага (2 балла)"
   ]
  },
  {
   "cell_type": "markdown",
   "metadata": {
    "id": "qiz3JstuO9Dt",
    "pycharm": {
     "name": "#%% md\n"
    }
   },
   "source": [
    "С курса \"Машинное обучение 1\" вы уже должны знать, что сходимость стохастического градиентного спуска мы можем теоретически гарантировать только если будем определенным образом со временем уменьшать длину шага. На практике при обучении нейронных сетей такая техника оказывается очень полезной, однако теоретически обоснованными способами уменьшения длины шага фантазия не ограничивается.\n",
    "\n",
    "Одним из простейших способов является кусочно постоянная функция: на нескольких фиксированных эпохах уменьшаем длину шага в константу раз."
   ]
  },
  {
   "cell_type": "code",
   "execution_count": 92,
   "metadata": {
    "id": "V2Z0OT3nO9Du",
    "pycharm": {
     "name": "#%%\n"
    }
   },
   "outputs": [
    {
     "name": "stdout",
     "output_type": "stream",
     "text": [
      "Epoch 0\n",
      " train loss: 1.4939952452396343, train acc: 46.69259271350222\n",
      " val loss: 1.2822934074604766, val acc: 54.24645390070923\n",
      "\n",
      "Epoch 1\n",
      " train loss: 1.1929159954435429, train acc: 58.28830961086445\n",
      " val loss: 1.2024597183186958, val acc: 56.715425531914896\n",
      "\n",
      "Epoch 2\n",
      " train loss: 1.0550864294198574, train acc: 63.198615826586575\n",
      " val loss: 1.0726317129236587, val acc: 62.95877659574468\n",
      "\n",
      "Epoch 3\n",
      " train loss: 0.9971437169821215, train acc: 65.11246408984069\n",
      " val loss: 1.0175995641566338, val acc: 64.25310283687944\n",
      "\n",
      "Epoch 4\n",
      " train loss: 0.9560039794205312, train acc: 66.87859101593106\n",
      " val loss: 1.0164540125968609, val acc: 65.44769503546098\n",
      "\n",
      "Epoch 5\n",
      " train loss: 0.924420029415291, train acc: 68.11953186210499\n",
      " val loss: 0.9975694836454189, val acc: 66.50265957446808\n",
      "\n",
      "Epoch 6\n",
      " train loss: 0.905340540779574, train acc: 68.40885348655002\n",
      " val loss: 0.9514704366947743, val acc: 66.87056737588652\n",
      "\n",
      "Epoch 7\n",
      " train loss: 0.8892872700743527, train acc: 68.92587816662314\n",
      " val loss: 0.8992355927507928, val acc: 68.88076241134752\n",
      "\n",
      "Epoch 8\n",
      " train loss: 0.866275743004173, train acc: 69.95339840689475\n",
      " val loss: 0.9514791874175376, val acc: 67.49113475177305\n",
      "\n",
      "Epoch 9\n",
      " train loss: 0.8582145692661431, train acc: 70.24149582136327\n",
      " val loss: 0.878699259808723, val acc: 69.61436170212765\n",
      "\n",
      "Epoch 10\n",
      " train loss: 0.745797355497559, train acc: 74.32301188299817\n",
      " val loss: 0.8268861613375076, val acc: 71.60682624113474\n",
      "\n",
      "Epoch 11\n",
      " train loss: 0.7321779265373237, train acc: 74.76862431444242\n",
      " val loss: 0.822597637075059, val acc: 71.62012411347517\n",
      "\n",
      "Epoch 12\n",
      " train loss: 0.7250761770570082, train acc: 74.83432358318099\n",
      " val loss: 0.8195926913555632, val acc: 72.06560283687942\n",
      "\n",
      "Epoch 13\n",
      " train loss: 0.7214287767353615, train acc: 75.19138482632542\n",
      " val loss: 0.8163559980849002, val acc: 72.09663120567377\n",
      "\n",
      "Epoch 14\n",
      " train loss: 0.7173589132930505, train acc: 75.32155915382606\n",
      " val loss: 0.8224773907915075, val acc: 71.77969858156027\n",
      "\n",
      "Epoch 15\n",
      " train loss: 0.701620020694227, train acc: 75.92795116218335\n",
      " val loss: 0.8117791033805685, val acc: 72.27836879432623\n",
      "\n",
      "Epoch 16\n",
      " train loss: 0.7001969721134228, train acc: 75.63454883781665\n",
      " val loss: 0.8114257330590106, val acc: 72.27836879432623\n",
      "\n",
      "Epoch 17\n",
      " train loss: 0.6984912376081268, train acc: 75.81369156437712\n",
      " val loss: 0.8103604569080028, val acc: 72.27836879432623\n",
      "\n",
      "Epoch 18\n",
      " train loss: 0.7001224207049968, train acc: 75.85327435361714\n",
      " val loss: 0.8094948199201137, val acc: 72.28501773049645\n",
      "\n",
      "Epoch 19\n",
      " train loss: 0.698718064663833, train acc: 75.87653434317055\n",
      " val loss: 0.810218619032109, val acc: 72.3116134751773\n",
      "\n"
     ]
    }
   ],
   "source": [
    "net2 = BasicBlockNet().to(device)\n",
    "optimizer = optim.SGD(net2.parameters(), lr=0.1, momentum=0.9)\n",
    "scheduler = optim.lr_scheduler.MultiStepLR(optimizer, milestones=[10, 15], gamma=0.1)\n",
    "tr_loss_log, tr_acc_log, val_loss_log, val_acc_log = train(\n",
    "    net2, optimizer, 20, train_loader, val_loader, scheduler\n",
    ")"
   ]
  },
  {
   "cell_type": "markdown",
   "metadata": {
    "id": "5Xc76KvzO9Du",
    "pycharm": {
     "name": "#%% md\n"
    }
   },
   "source": [
    "Посчитайте точность на тестовой выборке:"
   ]
  },
  {
   "cell_type": "code",
   "execution_count": 93,
   "metadata": {
    "id": "1AjiYhKqO9Du",
    "pycharm": {
     "name": "#%%\n"
    }
   },
   "outputs": [
    {
     "data": {
      "text/plain": [
       "np.float64(71.53662420382166)"
      ]
     },
     "execution_count": 93,
     "metadata": {},
     "output_type": "execute_result"
    }
   ],
   "source": [
    "_, acc = test(net2, test_loader)\n",
    "acc"
   ]
  },
  {
   "cell_type": "markdown",
   "metadata": {
    "id": "yE0dgLYrO9Du",
    "pycharm": {
     "name": "#%% md\n"
    }
   },
   "source": [
    "**Задание 3.0 (0.5 баллов).** Здесь может возникнуть вопрос: а что будет, если мы не будем уменьшать длину шага в процессе обучения, а сразу возьмем констатную, равную значению нашей кусочно-постоянной функции на последних эпохах, то есть $0.001$ в нашем случае. Запустите обучение и проверьте, что в таком случае мы получим худшее качество на тестовой выборке."
   ]
  },
  {
   "cell_type": "code",
   "execution_count": null,
   "metadata": {
    "id": "qZ2iB-LBO9Du",
    "pycharm": {
     "name": "#%%\n"
    }
   },
   "outputs": [
    {
     "name": "stdout",
     "output_type": "stream",
     "text": [
      "Epoch 0\n",
      " train loss: 1.818115135215536, train acc: 36.55735831809872\n",
      " val loss: 1.601160719546866, val acc: 43.590425531914896\n",
      "\n",
      "Epoch 1\n",
      " train loss: 1.5299816735265896, train acc: 46.41959388874379\n",
      " val loss: 1.4465747660778938, val acc: 49.213209219858165\n",
      "\n",
      "Epoch 2\n",
      " train loss: 1.4205867605627782, train acc: 50.21178832593366\n",
      " val loss: 1.3659959808309028, val acc: 52.02127659574468\n",
      "\n",
      "Epoch 3\n",
      " train loss: 1.3499306847887893, train acc: 52.73121245756072\n",
      " val loss: 1.3502113382867043, val acc: 52.77260638297872\n",
      "\n",
      "Epoch 4\n",
      " train loss: 1.29561402135183, train acc: 54.66260773047793\n",
      " val loss: 1.2816650253661135, val acc: 54.663120567375884\n",
      "\n",
      "Epoch 5\n",
      " train loss: 1.2512209763038746, train acc: 56.282237529381035\n",
      " val loss: 1.224294559245414, val acc: 57.42686170212766\n",
      "\n",
      "Epoch 6\n",
      " train loss: 1.2107332682260865, train acc: 57.83616805954557\n",
      " val loss: 1.1917950097550738, val acc: 58.410904255319146\n",
      "\n",
      "Epoch 7\n",
      " train loss: 1.1706710549333632, train acc: 59.271758291982245\n",
      " val loss: 1.1783079408584758, val acc: 58.47517730496455\n",
      "\n",
      "Epoch 8\n",
      " train loss: 1.1378881499797815, train acc: 60.533102637764436\n",
      " val loss: 1.1121729990269276, val acc: 61.43838652482269\n",
      "\n",
      "Epoch 9\n",
      " train loss: 1.1028362641168905, train acc: 61.82137960302951\n",
      " val loss: 1.1475717668837688, val acc: 59.62765957446808\n",
      "\n",
      "Epoch 10\n",
      " train loss: 1.0788839736194018, train acc: 62.49551123008619\n",
      " val loss: 1.115730388113793, val acc: 61.05053191489362\n",
      "\n",
      "Epoch 11\n",
      " train loss: 1.0563647348222611, train acc: 63.32634173413424\n",
      " val loss: 1.0664526467627666, val acc: 62.599734042553195\n",
      "\n",
      "Epoch 12\n",
      " train loss: 1.0374429201949014, train acc: 63.936814442413166\n",
      " val loss: 1.0294307198930295, val acc: 64.47695035460993\n",
      "\n",
      "Epoch 13\n",
      " train loss: 1.0170453804284607, train acc: 64.83783298511361\n",
      " val loss: 1.0331522213651778, val acc: 64.3107269503546\n",
      "\n",
      "Epoch 14\n",
      " train loss: 1.003504285210883, train acc: 65.41321167406635\n",
      " val loss: 1.005463326484599, val acc: 65.07535460992908\n",
      "\n",
      "Epoch 15\n",
      " train loss: 0.9889817243302326, train acc: 65.79353290676417\n",
      " val loss: 1.0391980046921587, val acc: 63.902925531914896\n",
      "\n",
      "Epoch 16\n",
      " train loss: 0.9720392324152987, train acc: 66.65456059023244\n",
      " val loss: 1.0070622811926173, val acc: 64.5811170212766\n",
      "\n",
      "Epoch 17\n",
      " train loss: 0.9613442295648063, train acc: 66.83860015669889\n",
      " val loss: 0.982359941462253, val acc: 66.16578014184397\n",
      "\n",
      "Epoch 18\n",
      " train loss: 0.9496092818118972, train acc: 67.38704622616872\n",
      " val loss: 0.9684885912753166, val acc: 66.55806737588652\n",
      "\n",
      "Epoch 19\n",
      " train loss: 0.9416482098795597, train acc: 67.43805497518935\n",
      " val loss: 0.9730765127121134, val acc: 66.13918439716312\n",
      "\n"
     ]
    }
   ],
   "source": [
    "net3 = BasicBlockNet().to(device)\n",
    "optimizer_const = optim.SGD(net3.parameters(), lr=0.001, momentum=0.9)\n",
    "\n",
    "tr_loss_log_const, tr_acc_log_const, val_loss_log_const, val_acc_log_const = train(\n",
    "    net3, optimizer_const, 20, train_loader, val_loader\n",
    ")"
   ]
  },
  {
   "cell_type": "code",
   "execution_count": 97,
   "metadata": {},
   "outputs": [
    {
     "data": {
      "text/plain": [
       "np.float64(66.25199044585987)"
      ]
     },
     "execution_count": 97,
     "metadata": {},
     "output_type": "execute_result"
    }
   ],
   "source": [
    "_, acc = test(net3, test_loader)\n",
    "acc"
   ]
  },
  {
   "cell_type": "markdown",
   "metadata": {
    "id": "xVotU378O9Du",
    "pycharm": {
     "name": "#%% md\n"
    }
   },
   "source": [
    "**Задание 3.1 (1.5 балла).** Изучите, какие еще способы уменьшения длины шага представлены в <code>torch.optim.lr_scheduler</code>. Выберите несколько из них, объясните, как они устроены, и обучите модель с ними. Удалось ли добиться улучшения качества на тестовой выборке?"
   ]
  },
  {
   "cell_type": "markdown",
   "metadata": {},
   "source": [
    "можно изменять LR экспоненциально по формуле lr = lr * gamma^epoch"
   ]
  },
  {
   "cell_type": "code",
   "execution_count": 98,
   "metadata": {},
   "outputs": [
    {
     "name": "stdout",
     "output_type": "stream",
     "text": [
      "Epoch 0\n",
      " train loss: 1.473305767371406, train acc: 47.803767302167664\n",
      " val loss: 1.2281980085880198, val acc: 57.276152482269495\n",
      "\n",
      "Epoch 1\n",
      " train loss: 1.081686168200791, train acc: 62.3412607730478\n",
      " val loss: 1.0550585112673172, val acc: 62.90336879432625\n",
      "\n",
      "Epoch 2\n",
      " train loss: 1.0225743045536648, train acc: 64.35590232436668\n",
      " val loss: 1.0350688454952646, val acc: 63.74778368794327\n",
      "\n",
      "Epoch 3\n",
      " train loss: 1.015058350846362, train acc: 64.5611615304257\n",
      " val loss: 1.0339065901776578, val acc: 63.97828014184397\n",
      "\n",
      "Epoch 4\n",
      " train loss: 1.0123212531454167, train acc: 64.63094149908592\n",
      " val loss: 1.0342901057385383, val acc: 63.95168439716311\n",
      "\n",
      "Epoch 5\n",
      " train loss: 1.013785129927194, train acc: 64.58278924001044\n",
      " val loss: 1.0342529895457815, val acc: 63.976063829787236\n",
      "\n",
      "Epoch 6\n",
      " train loss: 1.014385539391359, train acc: 64.71418777748758\n",
      " val loss: 1.0339795825329232, val acc: 64.00265957446808\n",
      "\n",
      "Epoch 7\n",
      " train loss: 1.0132518954425234, train acc: 64.64195938887438\n",
      " val loss: 1.0335368775306863, val acc: 63.998226950354606\n",
      "\n",
      "Epoch 8\n",
      " train loss: 1.0130431394908284, train acc: 64.63869482893706\n",
      " val loss: 1.0351768861425683, val acc: 63.85416666666667\n",
      "\n",
      "Epoch 9\n",
      " train loss: 1.0113170728822949, train acc: 64.88190454426744\n",
      " val loss: 1.0342897907216497, val acc: 63.89849290780141\n",
      "\n",
      "Epoch 10\n",
      " train loss: 1.0133564901526275, train acc: 64.69990532776181\n",
      " val loss: 1.0346919630436187, val acc: 63.922872340425535\n",
      "\n",
      "Epoch 11\n",
      " train loss: 1.0122364708230962, train acc: 64.69827304779315\n",
      " val loss: 1.0339819626605258, val acc: 63.891843971631204\n",
      "\n",
      "Epoch 12\n",
      " train loss: 1.0128671121553703, train acc: 64.88149647427527\n",
      " val loss: 1.0348965419099685, val acc: 63.867464539007095\n",
      "\n",
      "Epoch 13\n",
      " train loss: 1.0124108249788093, train acc: 64.68276638809088\n",
      " val loss: 1.033759179774751, val acc: 63.91622340425532\n",
      "\n",
      "Epoch 14\n",
      " train loss: 1.0132438284387537, train acc: 64.81090036563072\n",
      " val loss: 1.034575543758717, val acc: 63.75886524822695\n",
      "\n",
      "Epoch 15\n",
      " train loss: 1.0125889419637606, train acc: 64.72887829720554\n",
      " val loss: 1.0348920850043601, val acc: 63.84530141843971\n",
      "\n",
      "Epoch 16\n",
      " train loss: 1.0125790862758155, train acc: 64.67174849830242\n",
      " val loss: 1.0339420650867706, val acc: 64.08909574468085\n",
      "\n",
      "Epoch 17\n",
      " train loss: 1.0124400817062127, train acc: 64.67501305823976\n",
      " val loss: 1.0338965765973356, val acc: 64.02482269503545\n",
      "\n",
      "Epoch 18\n",
      " train loss: 1.0116369072654348, train acc: 64.7129635675111\n",
      " val loss: 1.034246182948985, val acc: 63.911790780141835\n",
      "\n",
      "Epoch 19\n",
      " train loss: 1.013001798602737, train acc: 64.7713175763907\n",
      " val loss: 1.0343964089738562, val acc: 63.869680851063826\n",
      "\n"
     ]
    }
   ],
   "source": [
    "net311 = BasicBlockNet().to(device)\n",
    "optimizer = optim.SGD(net311.parameters(), lr=0.1, momentum=0.9)\n",
    "scheduler = torch.optim.lr_scheduler.ExponentialLR(optimizer, gamma=0.1)\n",
    "tr_loss_log_const, tr_acc_log_const, val_loss_log_const, val_acc_log_const = train(\n",
    "    net311, optimizer, 20, train_loader, val_loader, scheduler\n",
    ")"
   ]
  },
  {
   "cell_type": "code",
   "execution_count": 99,
   "metadata": {
    "id": "nkGlzocOO9Du",
    "pycharm": {
     "name": "#%%\n"
    }
   },
   "outputs": [
    {
     "data": {
      "text/plain": [
       "np.float64(63.7937898089172)"
      ]
     },
     "execution_count": 99,
     "metadata": {},
     "output_type": "execute_result"
    }
   ],
   "source": [
    "_, acc = test(net311, test_loader)\n",
    "acc"
   ]
  },
  {
   "cell_type": "markdown",
   "metadata": {},
   "source": [
    "можно изменять lr по косинусу от 1 до 0"
   ]
  },
  {
   "cell_type": "code",
   "execution_count": 100,
   "metadata": {},
   "outputs": [
    {
     "name": "stdout",
     "output_type": "stream",
     "text": [
      "Epoch 0\n",
      " train loss: 1.5274851136931118, train acc: 45.3112757900235\n",
      " val loss: 1.3638359379261098, val acc: 50.964095744680854\n",
      "\n",
      "Epoch 1\n",
      " train loss: 1.1978853921349786, train acc: 58.078561634891614\n",
      " val loss: 1.1708789011265368, val acc: 59.22872340425532\n",
      "\n",
      "Epoch 2\n",
      " train loss: 1.074434048188016, train acc: 62.51999542961609\n",
      " val loss: 1.0431135210585087, val acc: 63.902925531914896\n",
      "\n",
      "Epoch 3\n",
      " train loss: 1.0171343538181437, train acc: 64.87251893444763\n",
      " val loss: 1.0041173295771821, val acc: 65.06648936170212\n",
      "\n",
      "Epoch 4\n",
      " train loss: 0.9700315754853829, train acc: 66.26199725776965\n",
      " val loss: 1.0307333872673359, val acc: 64.34175531914893\n",
      "\n",
      "Epoch 5\n",
      " train loss: 0.9330293197300578, train acc: 67.61801384173414\n",
      " val loss: 0.9713617025537694, val acc: 66.43395390070921\n",
      "\n",
      "Epoch 6\n",
      " train loss: 0.9004713453257106, train acc: 68.86385152781406\n",
      " val loss: 0.9529547516335832, val acc: 67.2872340425532\n",
      "\n",
      "Epoch 7\n",
      " train loss: 0.8767060623308423, train acc: 69.5987855837033\n",
      " val loss: 0.9819759701160674, val acc: 65.88874113475178\n",
      "\n",
      "Epoch 8\n",
      " train loss: 0.857342477635884, train acc: 70.27087686079916\n",
      " val loss: 0.9231783152894771, val acc: 67.93218085106383\n",
      "\n",
      "Epoch 9\n",
      " train loss: 0.8361193208633437, train acc: 70.8789011491251\n",
      " val loss: 0.8953656181376031, val acc: 68.8142730496454\n",
      "\n",
      "Epoch 10\n",
      " train loss: 0.8142411405360241, train acc: 71.75747584225647\n",
      " val loss: 0.8617334429253923, val acc: 70.2881205673759\n",
      "\n",
      "Epoch 11\n",
      " train loss: 0.7982623418571744, train acc: 72.42671062940715\n",
      " val loss: 0.8592503742968782, val acc: 70.05319148936171\n",
      "\n",
      "Epoch 12\n",
      " train loss: 0.7822561175775267, train acc: 72.97148406894752\n",
      " val loss: 0.879380489410238, val acc: 69.82712765957447\n",
      "\n",
      "Epoch 13\n",
      " train loss: 0.7664454334723666, train acc: 73.47096173935753\n",
      " val loss: 0.8714394752015459, val acc: 69.91134751773049\n",
      "\n",
      "Epoch 14\n",
      " train loss: 0.7537219808241131, train acc: 73.57665186732828\n",
      " val loss: 0.8457484098190957, val acc: 71.39406028368793\n",
      "\n",
      "Epoch 15\n",
      " train loss: 0.7366178802859848, train acc: 74.44216832071037\n",
      " val loss: 0.8304594027235153, val acc: 71.60239361702128\n",
      "\n",
      "Epoch 16\n",
      " train loss: 0.727610891163894, train acc: 74.63518542700444\n",
      " val loss: 0.8737481038621131, val acc: 69.49024822695036\n",
      "\n",
      "Epoch 17\n",
      " train loss: 0.715503128889056, train acc: 75.15221010707756\n",
      " val loss: 0.8325264755715716, val acc: 71.99246453900709\n",
      "\n",
      "Epoch 18\n",
      " train loss: 0.6991591080342175, train acc: 75.69004635675111\n",
      " val loss: 0.81226517545416, val acc: 72.55097517730495\n",
      "\n",
      "Epoch 19\n",
      " train loss: 0.6878022367928103, train acc: 75.99161008096108\n",
      " val loss: 0.8226027639622384, val acc: 72.16533687943262\n",
      "\n"
     ]
    }
   ],
   "source": [
    "net312 = BasicBlockNet().to(device)\n",
    "optimizer = optim.SGD(net312.parameters(), lr=0.1, momentum=0.9)\n",
    "scheduler = torch.optim.lr_scheduler.CosineAnnealingLR(optimizer, T_max=32)\n",
    "tr_loss_log_const, tr_acc_log_const, val_loss_log_const, val_acc_log_const = train(\n",
    "    net312, optimizer, 20, train_loader, val_loader, scheduler\n",
    ")"
   ]
  },
  {
   "cell_type": "code",
   "execution_count": 101,
   "metadata": {},
   "outputs": [
    {
     "data": {
      "text/plain": [
       "np.float64(71.36743630573248)"
      ]
     },
     "execution_count": 101,
     "metadata": {},
     "output_type": "execute_result"
    }
   ],
   "source": [
    "_, acc = test(net312, test_loader)\n",
    "acc"
   ]
  },
  {
   "cell_type": "markdown",
   "metadata": {
    "id": "7xFXgl_3_E--",
    "pycharm": {
     "name": "#%% md\n"
    }
   },
   "source": [
    "## 4. Аугментации данных (2 балла)"
   ]
  },
  {
   "cell_type": "markdown",
   "metadata": {
    "id": "5G0Easo9O9Du",
    "pycharm": {
     "name": "#%% md\n"
    }
   },
   "source": [
    "Еще одной стандартной техникой, применяющейся в глубинном обучении, а особенно часто в компьютерном зрении, являются аугментации данных. Суть аугментаций состоит в том, что мы можем некоторым синтетическим образом видоизменять объекты обучающей выборки, тем самым расширяя ее, а также делая итоговую модель более устойчивой к таким изменениям.\n",
    "\n",
    "Простейшая аугментация, которую можно применить к картинкам — разворот картинки по горизонтальной оси. То есть при обучении модели с вероятностью $0.5$ мы будем разворачивать картинку из обучающей выборки."
   ]
  },
  {
   "cell_type": "code",
   "execution_count": 73,
   "metadata": {
    "id": "SzeFpgtfO9Du",
    "pycharm": {
     "name": "#%%\n"
    }
   },
   "outputs": [
    {
     "data": {
      "image/png": "[encoded data removed]",
      "text/plain": [
       "<Figure size 640x480 with 1 Axes>"
      ]
     },
     "metadata": {},
     "output_type": "display_data"
    },
    {
     "data": {
      "image/png": "[encoded data removed]",
      "text/plain": [
       "<Figure size 640x480 with 1 Axes>"
      ]
     },
     "metadata": {},
     "output_type": "display_data"
    }
   ],
   "source": [
    "dataiter = iter(train_loader)\n",
    "images, labels = next(dataiter)\n",
    "\n",
    "imshow(torchvision.utils.make_grid(images[:4]))\n",
    "\n",
    "imshow(torchvision.utils.make_grid(transforms.functional.hflip(images[:4])))"
   ]
  },
  {
   "cell_type": "markdown",
   "metadata": {
    "id": "BR4a-XJQO9Du",
    "pycharm": {
     "name": "#%% md\n"
    }
   },
   "source": [
    "Наиболее удобным способом работы с аугментациями в PyTorch является их задание в списке <code>transforms</code>, который затем передается в загрузчик данных. Обучим нашу сеть, применяя горизонтальные повороты:"
   ]
  },
  {
   "cell_type": "code",
   "execution_count": null,
   "metadata": {
    "id": "na0ScBf-_AqX",
    "pycharm": {
     "name": "#%%\n"
    },
    "scrolled": true
   },
   "outputs": [
    {
     "name": "stdout",
     "output_type": "stream",
     "text": [
      "Epoch 0\n",
      " train loss: 1.4919332210280996, train acc: 47.13330830504049\n",
      " val loss: 1.2597771177900599, val acc: 55.538563829787236\n",
      "\n",
      "Epoch 1\n",
      " train loss: 1.1922029528147124, train acc: 58.537640376077306\n",
      " val loss: 1.1439718857724617, val acc: 59.55895390070923\n",
      "\n",
      "Epoch 2\n",
      " train loss: 1.0723702593738897, train acc: 62.75014690519718\n",
      " val loss: 1.12110540537124, val acc: 60.536347517730505\n",
      "\n",
      "Epoch 3\n",
      " train loss: 1.0259143304781242, train acc: 64.33345847479761\n",
      " val loss: 0.9662726326191678, val acc: 66.57358156028369\n",
      "\n",
      "Epoch 4\n",
      " train loss: 0.9779139902081743, train acc: 66.08203839122486\n",
      " val loss: 0.9733088305655946, val acc: 66.06161347517731\n",
      "\n",
      "Epoch 5\n",
      " train loss: 0.9515181042158626, train acc: 67.02223165317315\n",
      " val loss: 0.980597675100286, val acc: 67.14982269503547\n",
      "\n",
      "Epoch 6\n",
      " train loss: 0.9179749505175533, train acc: 68.2513384695743\n",
      " val loss: 0.9487684485760141, val acc: 67.50443262411348\n",
      "\n",
      "Epoch 7\n",
      " train loss: 0.9045958949399386, train acc: 68.64390180203709\n",
      " val loss: 0.8939626348779557, val acc: 69.17996453900709\n",
      "\n",
      "Epoch 8\n",
      " train loss: 0.8878010854097781, train acc: 69.3690421781144\n",
      " val loss: 0.9132553620541349, val acc: 68.19813829787235\n",
      "\n",
      "Epoch 9\n",
      " train loss: 0.8726187414835315, train acc: 69.763645860538\n",
      " val loss: 0.930290437759237, val acc: 68.46631205673759\n",
      "\n",
      "Epoch 10\n",
      " train loss: 0.7883079372332781, train acc: 72.6013645860538\n",
      " val loss: 0.8118111378334938, val acc: 72.15425531914893\n",
      "\n",
      "Epoch 11\n",
      " train loss: 0.7680327796412996, train acc: 73.38281862104989\n",
      " val loss: 0.8019811291643913, val acc: 72.50886524822695\n",
      "\n",
      "Epoch 12\n",
      " train loss: 0.7591684909581702, train acc: 73.74722512405329\n",
      " val loss: 0.794724658321827, val acc: 72.70390070921985\n",
      "\n",
      "Epoch 13\n",
      " train loss: 0.7572482496881398, train acc: 73.7623237137634\n",
      " val loss: 0.7954883829076239, val acc: 72.51551418439718\n",
      "\n",
      "Epoch 14\n",
      " train loss: 0.7555633653670386, train acc: 74.02512078871769\n",
      " val loss: 0.7891710025198916, val acc: 73.00753546099291\n",
      "\n",
      "Epoch 15\n",
      " train loss: 0.7413802057014305, train acc: 74.24343823452598\n",
      " val loss: 0.7844750524835383, val acc: 73.08289007092198\n",
      "\n",
      "Epoch 16\n",
      " train loss: 0.7385193747510858, train acc: 74.57438299817184\n",
      " val loss: 0.780586131963324, val acc: 73.34441489361703\n",
      "\n",
      "Epoch 17\n",
      " train loss: 0.7404178897467131, train acc: 74.56336510838338\n",
      " val loss: 0.7848341613373858, val acc: 73.08732269503547\n",
      "\n",
      "Epoch 18\n",
      " train loss: 0.7388032161012646, train acc: 74.54092125881431\n",
      " val loss: 0.7837747551025228, val acc: 73.07402482269505\n",
      "\n",
      "Epoch 19\n",
      " train loss: 0.7367883242353442, train acc: 74.54663423870463\n",
      " val loss: 0.780481855412747, val acc: 72.99867021276596\n",
      "\n"
     ]
    }
   ],
   "source": [
    "transform = transforms.Compose(\n",
    "    [\n",
    "        transforms.RandomHorizontalFlip(),\n",
    "        transforms.ToTensor(),\n",
    "        transforms.Normalize((0.5, 0.5, 0.5), (0.5, 0.5, 0.5)),\n",
    "    ]\n",
    ")\n",
    "\n",
    "train_loader, val_loader, test_loader = get_cifar10_data(\n",
    "    batch_size=64, transform_train=transform\n",
    ")\n",
    "\n",
    "net4 = BasicBlockNet().to(device)\n",
    "optimizer = optim.SGD(net4.parameters(), lr=0.1, momentum=0.9)\n",
    "scheduler = optim.lr_scheduler.MultiStepLR(optimizer, milestones=[10, 15], gamma=0.1)\n",
    "tr_loss_log, tr_acc_log, val_loss_log, val_acc_log = train(\n",
    "    net4, optimizer, 20, train_loader, val_loader, scheduler\n",
    ")"
   ]
  },
  {
   "cell_type": "markdown",
   "metadata": {
    "id": "v3ZIqDQqO9Dv",
    "pycharm": {
     "name": "#%% md\n"
    }
   },
   "source": [
    "Посчитайте точность на тестовой выборке:"
   ]
  },
  {
   "cell_type": "code",
   "execution_count": 75,
   "metadata": {
    "id": "nNJizMkM_Auh",
    "pycharm": {
     "name": "#%%\n"
    }
   },
   "outputs": [
    {
     "data": {
      "text/plain": [
       "np.float64(71.94466560509554)"
      ]
     },
     "execution_count": 75,
     "metadata": {},
     "output_type": "execute_result"
    }
   ],
   "source": [
    "_, acc = test(net3, test_loader)\n",
    "acc"
   ]
  },
  {
   "cell_type": "markdown",
   "metadata": {
    "id": "KndehSCHO9Dv",
    "pycharm": {
     "name": "#%% md\n"
    }
   },
   "source": [
    "**Задание 4.1 (2 балла).** Изучите, какие еще способы аугментаций изображений представлены в <code>torchvision.transforms</code>. Выберите несколько из них, объясните, как они устроены, и обучите модель с ними (по отдельности и вместе). Удалось ли добиться улучшения качества на тестовой выборке?"
   ]
  },
  {
   "cell_type": "markdown",
   "metadata": {},
   "source": [
    "В библиотеке представлены разные трансфрмации, например различные повороты изображений с какой-то вероятностью, изменение яркости, контрастности. также можно вырезать определенную область область из картинки и др."
   ]
  },
  {
   "cell_type": "code",
   "execution_count": null,
   "metadata": {
    "id": "Np4rgvdZ_QRF",
    "pycharm": {
     "name": "#%%\n"
    }
   },
   "outputs": [],
   "source": [
    "# <your code here>"
   ]
  },
  {
   "cell_type": "markdown",
   "metadata": {
    "id": "4K-MptLiO9Dv",
    "pycharm": {
     "name": "#%% md\n"
    }
   },
   "source": [
    "Your answers here:"
   ]
  },
  {
   "cell_type": "markdown",
   "metadata": {
    "id": "HCENjLw5O9Dv",
    "pycharm": {
     "name": "#%% md\n"
    }
   },
   "source": [
    "## Бонус. Логирование в wandb (1 балл)"
   ]
  },
  {
   "cell_type": "markdown",
   "metadata": {
    "id": "xOyzc1mnO9Dv",
    "pycharm": {
     "name": "#%% md\n"
    }
   },
   "source": [
    "На практике специалиста по глубинному обучению часто встречаются ситуации, когда нейросеть учится на каком-то удаленном сервере. И обычно вам хочется отслеживать прогресс обучения, особенно когда время обучения модели исчисляется днями или неделями. Для таких целей существует несколько инструментов. Вероятно, самый популярный из них — [wandb](https://wandb.ai/site).\n",
    "\n",
    "Ваша задача состоит в том, чтобы разобраться как им пользоваться, и повторить задания 2.1 и 2.2 с его использованием. Обучение вы можете запускать в этом же ноутбуке, но теперь вам необходимо через wandb логировать значения функции потерь и точности на обучающей выборке и на валидационной. Результатом работы должны быть ваш код и публичная ссылка на страничку с графиками, идентичными графикам в задании 2.2.\n",
    "\n",
    "Если вас смущает, что WandB грозится забанить вас, то можете разобраться с любым его аналогом и приложить ссылку на аналог."
   ]
  },
  {
   "cell_type": "code",
   "execution_count": null,
   "metadata": {
    "id": "m5gSTLAr_QS4",
    "pycharm": {
     "name": "#%%\n"
    }
   },
   "outputs": [],
   "source": [
    "# <your code here>"
   ]
  }
 ],
 "metadata": {
  "accelerator": "GPU",
  "colab": {
   "collapsed_sections": [],
   "provenance": []
  },
  "kernelspec": {
   "display_name": "myenv",
   "language": "python",
   "name": "python3"
  },
  "language_info": {
   "codemirror_mode": {
    "name": "ipython",
    "version": 3
   },
   "file_extension": ".py",
   "mimetype": "text/x-python",
   "name": "python",
   "nbconvert_exporter": "python",
   "pygments_lexer": "ipython3",
   "version": "3.12.8"
  },
  "widgets": {
   "application/vnd.jupyter.widget-state+json": {
    "0fee9f5b7bdb4129a71ef0cfe9d3b1fa": {
     "model_module": "@jupyter-widgets/controls",
     "model_module_version": "1.5.0",
     "model_name": "ProgressStyleModel",
     "state": {
      "_model_module": "@jupyter-widgets/controls",
      "_model_module_version": "1.5.0",
      "_model_name": "ProgressStyleModel",
      "_view_count": null,
      "_view_module": "@jupyter-widgets/base",
      "_view_module_version": "1.2.0",
      "_view_name": "StyleView",
      "bar_color": null,
      "description_width": ""
     }
    },
    "17b2be81159e41f1a5c6bb966516572e": {
     "model_module": "@jupyter-widgets/base",
     "model_module_version": "1.2.0",
     "model_name": "LayoutModel",
     "state": {
      "_model_module": "@jupyter-widgets/base",
      "_model_module_version": "1.2.0",
      "_model_name": "LayoutModel",
      "_view_count": null,
      "_view_module": "@jupyter-widgets/base",
      "_view_module_version": "1.2.0",
      "_view_name": "LayoutView",
      "align_content": null,
      "align_items": null,
      "align_self": null,
      "border": null,
      "bottom": null,
      "display": null,
      "flex": null,
      "flex_flow": null,
      "grid_area": null,
      "grid_auto_columns": null,
      "grid_auto_flow": null,
      "grid_auto_rows": null,
      "grid_column": null,
      "grid_gap": null,
      "grid_row": null,
      "grid_template_areas": null,
      "grid_template_columns": null,
      "grid_template_rows": null,
      "height": null,
      "justify_content": null,
      "justify_items": null,
      "left": null,
      "margin": null,
      "max_height": null,
      "max_width": null,
      "min_height": null,
      "min_width": null,
      "object_fit": null,
      "object_position": null,
      "order": null,
      "overflow": null,
      "overflow_x": null,
      "overflow_y": null,
      "padding": null,
      "right": null,
      "top": null,
      "visibility": null,
      "width": null
     }
    },
    "18b20091dbf64b129824a8fb3266e3c0": {
     "model_module": "@jupyter-widgets/controls",
     "model_module_version": "1.5.0",
     "model_name": "DescriptionStyleModel",
     "state": {
      "_model_module": "@jupyter-widgets/controls",
      "_model_module_version": "1.5.0",
      "_model_name": "DescriptionStyleModel",
      "_view_count": null,
      "_view_module": "@jupyter-widgets/base",
      "_view_module_version": "1.2.0",
      "_view_name": "StyleView",
      "description_width": ""
     }
    },
    "22bb21a6c57a413fb7374efe31349e6e": {
     "model_module": "@jupyter-widgets/base",
     "model_module_version": "1.2.0",
     "model_name": "LayoutModel",
     "state": {
      "_model_module": "@jupyter-widgets/base",
      "_model_module_version": "1.2.0",
      "_model_name": "LayoutModel",
      "_view_count": null,
      "_view_module": "@jupyter-widgets/base",
      "_view_module_version": "1.2.0",
      "_view_name": "LayoutView",
      "align_content": null,
      "align_items": null,
      "align_self": null,
      "border": null,
      "bottom": null,
      "display": null,
      "flex": null,
      "flex_flow": null,
      "grid_area": null,
      "grid_auto_columns": null,
      "grid_auto_flow": null,
      "grid_auto_rows": null,
      "grid_column": null,
      "grid_gap": null,
      "grid_row": null,
      "grid_template_areas": null,
      "grid_template_columns": null,
      "grid_template_rows": null,
      "height": null,
      "justify_content": null,
      "justify_items": null,
      "left": null,
      "margin": null,
      "max_height": null,
      "max_width": null,
      "min_height": null,
      "min_width": null,
      "object_fit": null,
      "object_position": null,
      "order": null,
      "overflow": null,
      "overflow_x": null,
      "overflow_y": null,
      "padding": null,
      "right": null,
      "top": null,
      "visibility": null,
      "width": null
     }
    },
    "7d238166caf64537ad9aa2040dcdc1ec": {
     "model_module": "@jupyter-widgets/controls",
     "model_module_version": "1.5.0",
     "model_name": "DescriptionStyleModel",
     "state": {
      "_model_module": "@jupyter-widgets/controls",
      "_model_module_version": "1.5.0",
      "_model_name": "DescriptionStyleModel",
      "_view_count": null,
      "_view_module": "@jupyter-widgets/base",
      "_view_module_version": "1.2.0",
      "_view_name": "StyleView",
      "description_width": ""
     }
    },
    "95c5696493db48738dbdc9940acec1d8": {
     "model_module": "@jupyter-widgets/controls",
     "model_module_version": "1.5.0",
     "model_name": "HTMLModel",
     "state": {
      "_dom_classes": [],
      "_model_module": "@jupyter-widgets/controls",
      "_model_module_version": "1.5.0",
      "_model_name": "HTMLModel",
      "_view_count": null,
      "_view_module": "@jupyter-widgets/controls",
      "_view_module_version": "1.5.0",
      "_view_name": "HTMLView",
      "description": "",
      "description_tooltip": null,
      "layout": "IPY_MODEL_22bb21a6c57a413fb7374efe31349e6e",
      "placeholder": "​",
      "style": "IPY_MODEL_18b20091dbf64b129824a8fb3266e3c0",
      "value": "100%"
     }
    },
    "9bad0d6a00c14229b0d776a2cfe15090": {
     "model_module": "@jupyter-widgets/base",
     "model_module_version": "1.2.0",
     "model_name": "LayoutModel",
     "state": {
      "_model_module": "@jupyter-widgets/base",
      "_model_module_version": "1.2.0",
      "_model_name": "LayoutModel",
      "_view_count": null,
      "_view_module": "@jupyter-widgets/base",
      "_view_module_version": "1.2.0",
      "_view_name": "LayoutView",
      "align_content": null,
      "align_items": null,
      "align_self": null,
      "border": null,
      "bottom": null,
      "display": null,
      "flex": null,
      "flex_flow": null,
      "grid_area": null,
      "grid_auto_columns": null,
      "grid_auto_flow": null,
      "grid_auto_rows": null,
      "grid_column": null,
      "grid_gap": null,
      "grid_row": null,
      "grid_template_areas": null,
      "grid_template_columns": null,
      "grid_template_rows": null,
      "height": null,
      "justify_content": null,
      "justify_items": null,
      "left": null,
      "margin": null,
      "max_height": null,
      "max_width": null,
      "min_height": null,
      "min_width": null,
      "object_fit": null,
      "object_position": null,
      "order": null,
      "overflow": null,
      "overflow_x": null,
      "overflow_y": null,
      "padding": null,
      "right": null,
      "top": null,
      "visibility": null,
      "width": null
     }
    },
    "aa9da821ba0c42b5b051355e50e691f0": {
     "model_module": "@jupyter-widgets/controls",
     "model_module_version": "1.5.0",
     "model_name": "HBoxModel",
     "state": {
      "_dom_classes": [],
      "_model_module": "@jupyter-widgets/controls",
      "_model_module_version": "1.5.0",
      "_model_name": "HBoxModel",
      "_view_count": null,
      "_view_module": "@jupyter-widgets/controls",
      "_view_module_version": "1.5.0",
      "_view_name": "HBoxView",
      "box_style": "",
      "children": [
       "IPY_MODEL_95c5696493db48738dbdc9940acec1d8",
       "IPY_MODEL_fe515a1f743f49d0b251b43919d52a8e",
       "IPY_MODEL_f4f339c969fd4e21bc683ecb2567897b"
      ],
      "layout": "IPY_MODEL_17b2be81159e41f1a5c6bb966516572e"
     }
    },
    "cd991379661b4b4ab405bf66f75c6834": {
     "model_module": "@jupyter-widgets/base",
     "model_module_version": "1.2.0",
     "model_name": "LayoutModel",
     "state": {
      "_model_module": "@jupyter-widgets/base",
      "_model_module_version": "1.2.0",
      "_model_name": "LayoutModel",
      "_view_count": null,
      "_view_module": "@jupyter-widgets/base",
      "_view_module_version": "1.2.0",
      "_view_name": "LayoutView",
      "align_content": null,
      "align_items": null,
      "align_self": null,
      "border": null,
      "bottom": null,
      "display": null,
      "flex": null,
      "flex_flow": null,
      "grid_area": null,
      "grid_auto_columns": null,
      "grid_auto_flow": null,
      "grid_auto_rows": null,
      "grid_column": null,
      "grid_gap": null,
      "grid_row": null,
      "grid_template_areas": null,
      "grid_template_columns": null,
      "grid_template_rows": null,
      "height": null,
      "justify_content": null,
      "justify_items": null,
      "left": null,
      "margin": null,
      "max_height": null,
      "max_width": null,
      "min_height": null,
      "min_width": null,
      "object_fit": null,
      "object_position": null,
      "order": null,
      "overflow": null,
      "overflow_x": null,
      "overflow_y": null,
      "padding": null,
      "right": null,
      "top": null,
      "visibility": null,
      "width": null
     }
    },
    "f4f339c969fd4e21bc683ecb2567897b": {
     "model_module": "@jupyter-widgets/controls",
     "model_module_version": "1.5.0",
     "model_name": "HTMLModel",
     "state": {
      "_dom_classes": [],
      "_model_module": "@jupyter-widgets/controls",
      "_model_module_version": "1.5.0",
      "_model_name": "HTMLModel",
      "_view_count": null,
      "_view_module": "@jupyter-widgets/controls",
      "_view_module_version": "1.5.0",
      "_view_name": "HTMLView",
      "description": "",
      "description_tooltip": null,
      "layout": "IPY_MODEL_cd991379661b4b4ab405bf66f75c6834",
      "placeholder": "​",
      "style": "IPY_MODEL_7d238166caf64537ad9aa2040dcdc1ec",
      "value": " 170498071/170498071 [00:13&lt;00:00, 13339884.37it/s]"
     }
    },
    "fe515a1f743f49d0b251b43919d52a8e": {
     "model_module": "@jupyter-widgets/controls",
     "model_module_version": "1.5.0",
     "model_name": "FloatProgressModel",
     "state": {
      "_dom_classes": [],
      "_model_module": "@jupyter-widgets/controls",
      "_model_module_version": "1.5.0",
      "_model_name": "FloatProgressModel",
      "_view_count": null,
      "_view_module": "@jupyter-widgets/controls",
      "_view_module_version": "1.5.0",
      "_view_name": "ProgressView",
      "bar_style": "success",
      "description": "",
      "description_tooltip": null,
      "layout": "IPY_MODEL_9bad0d6a00c14229b0d776a2cfe15090",
      "max": 170498071,
      "min": 0,
      "orientation": "horizontal",
      "style": "IPY_MODEL_0fee9f5b7bdb4129a71ef0cfe9d3b1fa",
      "value": 170498071
     }
    }
   }
  }
 },
 "nbformat": 4,
 "nbformat_minor": 1
}
